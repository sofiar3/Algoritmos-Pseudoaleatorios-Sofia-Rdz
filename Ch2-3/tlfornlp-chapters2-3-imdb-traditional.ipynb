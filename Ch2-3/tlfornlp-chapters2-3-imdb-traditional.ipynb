{
  "cells": [
    {
      "cell_type": "markdown",
      "metadata": {
        "id": "EDtUiZSIcnym"
      },
      "source": [
        "# WARNING\n",
        "**Please make sure to \"COPY AND EDIT NOTEBOOK\" to use compatible library dependencies! DO NOT CREATE A NEW NOTEBOOK AND COPY+PASTE THE CODE - this will use latest Kaggle dependencies at the time you do that, and the code will need to be modified to make it work. Also make sure internet connectivity is enabled on your notebook**"
      ]
    },
    {
      "cell_type": "markdown",
      "metadata": {
        "id": "YJbTplYRcnyo"
      },
      "source": [
        "# Preliminaries\n",
        "\n",
        "Write requirements to file, anytime you run it, in case you have to go back and recover Kaggle dependencies. **MOST OF THESE REQUIREMENTS WOULD NOT BE NECESSARY FOR LOCAL INSTALLATION**\n",
        "\n",
        "Latest known such requirements are hosted for each notebook in the companion github repo, and can be pulled down and installed here if needed. Companion github repo is located at https://github.com/azunre/transfer-learning-for-nlp"
      ]
    },
    {
      "cell_type": "code",
      "execution_count": 1,
      "metadata": {
        "id": "QHi1vshYcnyp"
      },
      "outputs": [],
      "source": [
        "!pip freeze > kaggle_image_requirements.txt"
      ]
    },
    {
      "cell_type": "markdown",
      "metadata": {
        "id": "jcm0hXlOcnyp"
      },
      "source": [
        "# Download IMDB Movie Review Dataset\n",
        "Download IMDB dataset"
      ]
    },
    {
      "cell_type": "code",
      "execution_count": null,
      "metadata": {
        "id": "GyVuvmQicnyq",
        "outputId": "5d242c68-b89d-4f06-c0a6-af6105506923"
      },
      "outputs": [
        {
          "name": "stdout",
          "output_type": "stream",
          "text": [
            "wget: /opt/conda/lib/libuuid.so.1: no version information available (required by wget)\r\n"
          ]
        }
      ],
      "source": [
        "import random\n",
        "import pandas as pd\n",
        "\n",
        "## Read-in the reviews and print some basic descriptions of them\n",
        "\n",
        "!wget -q \"http://ai.stanford.edu/~amaas/data/sentiment/aclImdb_v1.tar.gz\"\n",
        "!tar xzf aclImdb_v1.tar.gz"
      ]
    },
    {
      "cell_type": "markdown",
      "metadata": {
        "id": "9fIFPHi1cnyq"
      },
      "source": [
        "# Define Tokenization, Stop-word and Punctuation Removal Functions\n",
        "Before proceeding, we must decide how many samples to draw from each class. We must also decide the maximum number of tokens per email, and the maximum length of each token. This is done by setting the following overarching hyperparameters\n"
      ]
    },
    {
      "cell_type": "code",
      "execution_count": null,
      "metadata": {
        "id": "anCF-SLccnyq"
      },
      "outputs": [],
      "source": [
        "Nsamp = 1000 # number of samples to generate in each class - 'spam', 'not spam'\n",
        "maxtokens = 200 # the maximum number of tokens per document\n",
        "maxtokenlen = 100 # the maximum length of each token"
      ]
    },
    {
      "cell_type": "markdown",
      "metadata": {
        "id": "dkqgsbDscnyr"
      },
      "source": [
        "**Tokenization**"
      ]
    },
    {
      "cell_type": "code",
      "execution_count": null,
      "metadata": {
        "id": "33Yug39ycnyr"
      },
      "outputs": [],
      "source": [
        "def tokenize(row):\n",
        "    if row is None or row is '':\n",
        "        tokens = \"\"\n",
        "    else:\n",
        "        tokens = row.split(\" \")[:maxtokens]\n",
        "    return tokens"
      ]
    },
    {
      "cell_type": "markdown",
      "metadata": {
        "id": "tsOJeGy6cnyr"
      },
      "source": [
        "**Use regular expressions to remove unnecessary characters**\n",
        "\n",
        "Next, we define a function to remove punctuation marks and other nonword characters (using regular expressions) from the emails with the help of the ubiquitous python regex library. In the same step, we truncate all tokens to hyperparameter maxtokenlen defined above."
      ]
    },
    {
      "cell_type": "code",
      "execution_count": null,
      "metadata": {
        "id": "1L-yH1Wqcnyr"
      },
      "outputs": [],
      "source": [
        "import re\n",
        "\n",
        "def reg_expressions(row):\n",
        "    tokens = []\n",
        "    try:\n",
        "        for token in row:\n",
        "            token = token.lower() # make all characters lower case\n",
        "            token = re.sub(r'[\\W\\d]', \"\", token)\n",
        "            token = token[:maxtokenlen] # truncate token\n",
        "            tokens.append(token)\n",
        "    except:\n",
        "        token = \"\"\n",
        "        tokens.append(token)\n",
        "    return tokens"
      ]
    },
    {
      "cell_type": "markdown",
      "metadata": {
        "id": "cwcWLvFRcnys"
      },
      "source": [
        "**Stop-word removal**\n",
        "\n",
        "Stop-words are also removed. Stop-words are words that are very common in text but offer no useful information that can be used to classify the text. Words such as is, and, the, are are examples of stop-words. The NLTK library contains a list of 127 English stop-words and can be used to filter our tokenized strings."
      ]
    },
    {
      "cell_type": "code",
      "execution_count": null,
      "metadata": {
        "id": "c4iYXtIWcnys",
        "outputId": "316990da-8e80-476b-db0f-00c5a2344ca6"
      },
      "outputs": [
        {
          "name": "stdout",
          "output_type": "stream",
          "text": [
            "[nltk_data] Downloading package stopwords to /usr/share/nltk_data...\n",
            "[nltk_data]   Unzipping corpora/stopwords.zip.\n"
          ]
        }
      ],
      "source": [
        "import nltk\n",
        "\n",
        "nltk.download('stopwords')\n",
        "from nltk.corpus import stopwords\n",
        "stopwords = stopwords.words('english')\n",
        "\n",
        "# print(stopwords) # see default stopwords\n",
        "# it may be beneficial to drop negation words from the removal list, as they can change the positive/negative meaning\n",
        "# of a sentence\n",
        "# stopwords.remove(\"no\")\n",
        "# stopwords.remove(\"nor\")\n",
        "# stopwords.remove(\"not\")\n"
      ]
    },
    {
      "cell_type": "code",
      "execution_count": null,
      "metadata": {
        "id": "BTjhgieQcnys"
      },
      "outputs": [],
      "source": [
        "def stop_word_removal(row):\n",
        "    token = [token for token in row if token not in stopwords]\n",
        "    token = filter(None, token)\n",
        "    return token"
      ]
    },
    {
      "cell_type": "markdown",
      "metadata": {
        "id": "YVX1a1NFcnys"
      },
      "source": [
        "# Bag-of-words model\n",
        "\n",
        "For the computer to make inferences of the e-mails, it has to be able to interpret the text by making a numerical representation of it. One way to do this is by using something called a \"bag-of-words\" model. This model simply counts the frequency of word tokens for each email and thereby represents it as a vector of these counts.\n",
        "\n",
        "** Assemble matrices function**\n",
        "\n",
        "The `assemble_bag()` function assembles a new dataframe containing all the unique words found in the text documents. It counts the word frequency and then returns the new dataframe."
      ]
    },
    {
      "cell_type": "code",
      "execution_count": null,
      "metadata": {
        "id": "3XxieAx7cnys"
      },
      "outputs": [],
      "source": [
        "def assemble_bag(data):\n",
        "    used_tokens = []\n",
        "    all_tokens = []\n",
        "\n",
        "    for item in data:\n",
        "        for token in item:\n",
        "            if token in all_tokens:\n",
        "                if token not in used_tokens:\n",
        "                    used_tokens.append(token)\n",
        "            else:\n",
        "                all_tokens.append(token)\n",
        "\n",
        "    df = pd.DataFrame(0, index = np.arange(len(data)), columns = used_tokens)\n",
        "\n",
        "    for i, item in enumerate(data):\n",
        "        for token in item:\n",
        "            if token in used_tokens:\n",
        "                df.iloc[i][token] += 1\n",
        "    return df"
      ]
    },
    {
      "cell_type": "markdown",
      "metadata": {
        "id": "GzbQHJb9cnys"
      },
      "source": [
        "# Putting It All Together To Assemble Dataset\n",
        "\n",
        "Now, putting all the preprocessing steps together we assemble our dataset..."
      ]
    },
    {
      "cell_type": "code",
      "execution_count": null,
      "metadata": {
        "id": "ImccXjSXcnyt",
        "outputId": "cbb67c11-90e9-4577-89fb-2229c99dd3ff"
      },
      "outputs": [
        {
          "name": "stdout",
          "output_type": "stream",
          "text": [
            "(25000,)\n",
            "25000\n"
          ]
        }
      ],
      "source": [
        "import os\n",
        "import numpy as np\n",
        "\n",
        "# shuffle raw data first\n",
        "def unison_shuffle_data(data, header):\n",
        "    p = np.random.permutation(len(header))\n",
        "    data = data[p]\n",
        "    header = np.asarray(header)[p]\n",
        "    return data, header\n",
        "\n",
        "# load data in appropriate form\n",
        "def load_data(path):\n",
        "    data, sentiments = [], []\n",
        "    for folder, sentiment in (('neg', 0), ('pos', 1)):\n",
        "        folder = os.path.join(path, folder)\n",
        "        for name in os.listdir(folder):\n",
        "            with open(os.path.join(folder, name), 'r') as reader:\n",
        "                  text = reader.read()\n",
        "            text = tokenize(text)\n",
        "            text = stop_word_removal(text)\n",
        "            text = reg_expressions(text)\n",
        "            data.append(text)\n",
        "            sentiments.append(sentiment)\n",
        "    data_np = np.array(data)\n",
        "    data, sentiments = unison_shuffle_data(data_np, sentiments)\n",
        "\n",
        "    return data, sentiments\n",
        "\n",
        "train_path = os.path.join('aclImdb', 'train')\n",
        "test_path = os.path.join('aclImdb', 'test')\n",
        "raw_data, raw_header = load_data(train_path)\n",
        "\n",
        "print(raw_data.shape)\n",
        "print(len(raw_header))"
      ]
    },
    {
      "cell_type": "code",
      "execution_count": null,
      "metadata": {
        "id": "nMXHDH6Acnyt",
        "outputId": "e606fb22-d248-427b-e816-016e1b17102a"
      },
      "outputs": [
        {
          "name": "stdout",
          "output_type": "stream",
          "text": [
            "DEBUG::data_train::\n",
            "[list(['it', 'was', 'supposed', 'last', 'freddy', 'movie', 'and', '', 'yearsyou', 'would', 'think', 'would', 'tried', 'get', 'good', 'movie', 'done', 'but', 'turned', 'giving', 'us', 'worst', 'series', 'and', 'thats', 'saying', 'lot', 'the', 'plot', 'made', 'sense', 'i', 'seriously', 'cant', 'remember', 'it', 'main', 'characters', 'idiots', 'you', 'really', 'wanted', 'dead', 'freddys', 'wisecracks', 'even', 'worse', 'usual', 'the', 'remotely', 'good', 'bit', 'brief', 'and', 'funny', 'cameo', 'johnny', 'depp', 'the', 'first', 'nightmare', 'movie', 'firstbr', 'br', 'also', 'i', 'originally', 'saw', 'theatre', 'last', 'section', 'reaccounting', 'freddys', 'childhood', 'd', 'wellthe', 'd', 'lousyfaded', 'colors', 'image', 'going', 'focus', 'also', 'three', 'flying', 'skulls', 'supposed', 'scary', 'i', 'think', 'opposite', 'reaction', 'audience', 'everybody', 'broke', 'laughing', 'looks', 'even', 'worse', 'tv', 'd', 'pointless', 'stupidvery', 'dull', 'also', 'skip', 'one', 'see', 'freddy', 'vs', 'jason', 'again'])\n",
            " list(['i', 'really', 'wanted', 'like', 'movie', '', 'location', 'shots', 'mostly', 'filmed', 'pittsburgh', 'trailer', 'wonderful', 'photography', 'but', 'even', 'filmed', 'cartoon', 'really', 'badlymade', 'movie', 'the', 'continuity', 'pacing', 'simply', 'awful', 'the', 'best', 'bits', 'movie', 'ending', 'credits', 'almost', 'worth', 'sticking', 'end', 'though', 'oddly', 'pick', 'little', 'last', 'half', 'hour', 'sobr', 'br', 'when', 'best', 'performance', 'movie', 'andy', 'dick', 'know', 'theres', 'got', 'problem'])\n",
            " list(['i', 'saw', 'little', 'belgian', 'gem', 'two', 'days', 'seeing', 'american', 'teen', 'make', 'mistake', 'it', 'adolescence', 'roller', 'coaster', 'ride', 'american', 'european', 'naissance', 'des', 'pieuvres', 'or', 'called', 'us', 'water', 'lilliesis', 'tale', 'young', '', 'year', 'old', 'girl', 'played', 'pauline', 'acquartwho', 'times', 'resembles', 'young', 'scarlett', 'johanssonacts', 'cool', 'withdrawn', 'girl', 'wants', 'school', 'swim', 'team', 'close', 'another', 'attractive', 'girl', 'adele', 'haenel', 'its', 'obvious', 'marie', 'attracted', 'floriane', 'figuring', 'among', 'maries', 'rather', 'plump', 'unattractive', 'friend', 'anne', 'wants', 'boyfriend', 'like', 'girl', 'age', 'along', 'waywe', 'shown', 'usual', 'array', 'teen', 'pastimes', 'broken', 'heartsshop', 'liftingalcohol', 'andor', 'drug', 'usecasual', 'sexetc', 'this', 'quiet', 'little', 'film', 'takes', 'time', 'work', 'way', 'system', 'michael', 'bay', 'fanstake', 'notethe', 'pacing', 'slowso', 'steer', 'clearbut', 'problem', 'this', 'water', 'lillies', 'charmer', 'no', 'rating', 'herebut', 'would', 'pull', 'hard', 'r', 'due', 'languagenudityadult', 'situations'])\n",
            " ...\n",
            " list(['the', 'biggest', 'mystery', 'veronica', 'mars', 'one', 'tackle', 'screenbr', 'br', 'rather', 'mystery', 'perennial', 'ratings', 'disappointment', 'still', 'air', 'this', 'week', 'marked', 'nadir', 'veronica', 'mars', 'ranked', '', '', 'shows', 'big', '', 'soon', 'big', '', 'yes', 'read', 'right', 'veronica', 'mars', 'beaten', 'every', 'show', 'nowdefunct', 'wb', 'every', 'show', 'upn', 'it', 'beat', 'shows', 'fox', 'course', 'shows', 'abc', 'cbs', 'nbcbr', 'br', 'now', 'hip', 'hypesters', 'going', 'say', 'rerun', 'but', 'everything', 'tv', 'week', 'pretty', 'much', 'rerun', 'it', 'boggles', 'mind', 'cw', 'would', 'choose', 'proved', 'ratings', 'disappointment', 'one', 'shows', 'saved', 'upnbr', 'br', 'clearly', 'something', 'going', 'behind', 'scenes', 'favors', 'exchanged', 'influence', 'peddledbr', 'br', 'sorry', 'cynical', 'explanation', 'there', 'the', 'veronica', 'mars', 'potential', 'line', 'clearly', 'dead', 'two', 'years', 'establish', 'failed', 'sobr', 'br', 'maybe', 'joel', 'silvers', 'influence'])\n",
            " list(['germans', 'stand', 'open', 'get', 'mowed', 'machine', 'gun', 'good', 'guys', 'never', 'die', 'unless', 'dramatic', 'purposes', 'plot', 'many', 'holes', 'laughable', 'where', 'german', 'soldiers', 'go', 'rolled', 'fuel', 'tank', 'towards', 'train', 'erik', 'estrada', 'please', 'and', 'whole', 'idea', 'hijacking', 'train', 'how', 'moronic', 'that', 'the', 'germans', 'know', 'going', 'go', 'like', 'leave', 'track', 'drive', 'away', 'what', 'waste', 'i', 'would', 'rather', 'bonk', 'head', 'ball', 'peen', 'hammer', '', 'times', 'sit', 'again', 'i', 'mean', 'seriously', 'felt', 'like', 'made', 's', 'produced', '', '', 'ateam', 'believable', 'horrid', 'excuse', 'movie', 'only', 'watch', 'need', 'good', 'laugh', 'this', 'movie', 'tele', 'sevalas', 'green', 'beret', 'john', 'wayne'])\n",
            " list(['can', 'i', 'simple', 'primitive', 'evaluations', 'simply', 'say', 'i', 'liked', 'it', 'its', 'reasonably', 'funny', 'bits', 'got', 'great', 'stars', 'gorgeous', 'look', 'at', 'the', 'songs', 'there', 'two', 'repeated', 'forgettable', 'get', 'healthy', 'ironic', 'treatment', 'such', 'terribly', 'handsome', 'mr', 'fairbanks', 'exploding', 'frenzied', 'wagnerian', 'version', 'tender', 'ballad', 'miss', 'grable', 'rendered', 'much', 'dancing', '', 'crinolines', 'draped', 'around', 'miss', 'grable', 'comedy', 'might', 'bit', 'heavy', 'handed', 'result', 'still', 'uplifting', 'the', 'photography', 'including', 'real', 'outdoor', 'shots', 'thrill', 'amazing', 'playing', 'around', 'different', 'shades', 'lush', 'heavy', 'gold', 'miss', 'grable', 'bit', 'past', 'prime', 'plumpish', 'side', 'still', 'fresh', 'comfortable', 'continental', 'olde', 'worlde', 'comedy', 'its', 'pretty', 'much', 'along', 'line', 'down', 'earth', 'rita', 'hayworth', 'one', 'tends', 'rather', 'disliked', 'many', 'so', 'i', 'suppose', 'several', 'people', 'would', 'deem', 'that', 'lady', 'ermine', 'outdated', 'stuffy', 'but', 'fairy', 'tale', 'tend', 'move', 'along', 'certain', 'paste'])]\n"
          ]
        }
      ],
      "source": [
        "# Subsample required number of samples\n",
        "random_indices = np.random.choice(range(len(raw_header)),size=(Nsamp*2,),replace=False)\n",
        "data_train = raw_data[random_indices]\n",
        "header = raw_header[random_indices]\n",
        "\n",
        "print(\"DEBUG::data_train::\")\n",
        "print(data_train)"
      ]
    },
    {
      "cell_type": "markdown",
      "metadata": {
        "id": "YteG9ad2cnyt"
      },
      "source": [
        "Display sentiments and their frequencies in the dataset, to ensure it is roughly balanced between classes"
      ]
    },
    {
      "cell_type": "code",
      "execution_count": null,
      "metadata": {
        "id": "g-qopFrPcnyt",
        "outputId": "61944d47-aeb6-4ead-912a-2a85324ca775"
      },
      "outputs": [
        {
          "name": "stdout",
          "output_type": "stream",
          "text": [
            "Sentiments and their frequencies:\n",
            "[0 1]\n",
            "[1020  980]\n"
          ]
        }
      ],
      "source": [
        "unique_elements, counts_elements = np.unique(header, return_counts=True)\n",
        "print(\"Sentiments and their frequencies:\")\n",
        "print(unique_elements)\n",
        "print(counts_elements)"
      ]
    },
    {
      "cell_type": "markdown",
      "metadata": {
        "id": "kVTNCr0Icnyt"
      },
      "source": [
        "**Featurize and Create Labels**"
      ]
    },
    {
      "cell_type": "code",
      "execution_count": null,
      "metadata": {
        "id": "zJs7HD0Ncnyu",
        "outputId": "c562082c-0dda-447f-b98a-9628605cb6a3"
      },
      "outputs": [
        {
          "data": {
            "text/html": [
              "<div>\n",
              "<style scoped>\n",
              "    .dataframe tbody tr th:only-of-type {\n",
              "        vertical-align: middle;\n",
              "    }\n",
              "\n",
              "    .dataframe tbody tr th {\n",
              "        vertical-align: top;\n",
              "    }\n",
              "\n",
              "    .dataframe thead th {\n",
              "        text-align: right;\n",
              "    }\n",
              "</style>\n",
              "<table border=\"1\" class=\"dataframe\">\n",
              "  <thead>\n",
              "    <tr style=\"text-align: right;\">\n",
              "      <th></th>\n",
              "      <th>would</th>\n",
              "      <th>movie</th>\n",
              "      <th>and</th>\n",
              "      <th>it</th>\n",
              "      <th>the</th>\n",
              "      <th>good</th>\n",
              "      <th>i</th>\n",
              "      <th>last</th>\n",
              "      <th>freddys</th>\n",
              "      <th>d</th>\n",
              "      <th>...</th>\n",
              "      <th>housebr</th>\n",
              "      <th>spawn</th>\n",
              "      <th>hulk</th>\n",
              "      <th>perennial</th>\n",
              "      <th>marked</th>\n",
              "      <th>nadir</th>\n",
              "      <th>veronica</th>\n",
              "      <th>exchanged</th>\n",
              "      <th>grable</th>\n",
              "      <th>hayworth</th>\n",
              "    </tr>\n",
              "  </thead>\n",
              "  <tbody>\n",
              "    <tr>\n",
              "      <td>0</td>\n",
              "      <td>2</td>\n",
              "      <td>3</td>\n",
              "      <td>3</td>\n",
              "      <td>2</td>\n",
              "      <td>3</td>\n",
              "      <td>2</td>\n",
              "      <td>3</td>\n",
              "      <td>2</td>\n",
              "      <td>2</td>\n",
              "      <td>3</td>\n",
              "      <td>...</td>\n",
              "      <td>0</td>\n",
              "      <td>0</td>\n",
              "      <td>0</td>\n",
              "      <td>0</td>\n",
              "      <td>0</td>\n",
              "      <td>0</td>\n",
              "      <td>0</td>\n",
              "      <td>0</td>\n",
              "      <td>0</td>\n",
              "      <td>0</td>\n",
              "    </tr>\n",
              "    <tr>\n",
              "      <td>1</td>\n",
              "      <td>0</td>\n",
              "      <td>4</td>\n",
              "      <td>0</td>\n",
              "      <td>0</td>\n",
              "      <td>2</td>\n",
              "      <td>0</td>\n",
              "      <td>1</td>\n",
              "      <td>1</td>\n",
              "      <td>0</td>\n",
              "      <td>0</td>\n",
              "      <td>...</td>\n",
              "      <td>0</td>\n",
              "      <td>0</td>\n",
              "      <td>0</td>\n",
              "      <td>0</td>\n",
              "      <td>0</td>\n",
              "      <td>0</td>\n",
              "      <td>0</td>\n",
              "      <td>0</td>\n",
              "      <td>0</td>\n",
              "      <td>0</td>\n",
              "    </tr>\n",
              "    <tr>\n",
              "      <td>2</td>\n",
              "      <td>1</td>\n",
              "      <td>0</td>\n",
              "      <td>0</td>\n",
              "      <td>1</td>\n",
              "      <td>0</td>\n",
              "      <td>0</td>\n",
              "      <td>1</td>\n",
              "      <td>0</td>\n",
              "      <td>0</td>\n",
              "      <td>0</td>\n",
              "      <td>...</td>\n",
              "      <td>0</td>\n",
              "      <td>0</td>\n",
              "      <td>0</td>\n",
              "      <td>0</td>\n",
              "      <td>0</td>\n",
              "      <td>0</td>\n",
              "      <td>0</td>\n",
              "      <td>0</td>\n",
              "      <td>0</td>\n",
              "      <td>0</td>\n",
              "    </tr>\n",
              "    <tr>\n",
              "      <td>3</td>\n",
              "      <td>0</td>\n",
              "      <td>0</td>\n",
              "      <td>0</td>\n",
              "      <td>4</td>\n",
              "      <td>3</td>\n",
              "      <td>0</td>\n",
              "      <td>0</td>\n",
              "      <td>0</td>\n",
              "      <td>0</td>\n",
              "      <td>0</td>\n",
              "      <td>...</td>\n",
              "      <td>0</td>\n",
              "      <td>0</td>\n",
              "      <td>0</td>\n",
              "      <td>0</td>\n",
              "      <td>0</td>\n",
              "      <td>0</td>\n",
              "      <td>0</td>\n",
              "      <td>0</td>\n",
              "      <td>0</td>\n",
              "      <td>0</td>\n",
              "    </tr>\n",
              "    <tr>\n",
              "      <td>4</td>\n",
              "      <td>0</td>\n",
              "      <td>1</td>\n",
              "      <td>0</td>\n",
              "      <td>1</td>\n",
              "      <td>0</td>\n",
              "      <td>0</td>\n",
              "      <td>0</td>\n",
              "      <td>0</td>\n",
              "      <td>0</td>\n",
              "      <td>0</td>\n",
              "      <td>...</td>\n",
              "      <td>0</td>\n",
              "      <td>0</td>\n",
              "      <td>0</td>\n",
              "      <td>0</td>\n",
              "      <td>0</td>\n",
              "      <td>0</td>\n",
              "      <td>0</td>\n",
              "      <td>0</td>\n",
              "      <td>0</td>\n",
              "      <td>0</td>\n",
              "    </tr>\n",
              "    <tr>\n",
              "      <td>...</td>\n",
              "      <td>...</td>\n",
              "      <td>...</td>\n",
              "      <td>...</td>\n",
              "      <td>...</td>\n",
              "      <td>...</td>\n",
              "      <td>...</td>\n",
              "      <td>...</td>\n",
              "      <td>...</td>\n",
              "      <td>...</td>\n",
              "      <td>...</td>\n",
              "      <td>...</td>\n",
              "      <td>...</td>\n",
              "      <td>...</td>\n",
              "      <td>...</td>\n",
              "      <td>...</td>\n",
              "      <td>...</td>\n",
              "      <td>...</td>\n",
              "      <td>...</td>\n",
              "      <td>...</td>\n",
              "      <td>...</td>\n",
              "      <td>...</td>\n",
              "    </tr>\n",
              "    <tr>\n",
              "      <td>1995</td>\n",
              "      <td>2</td>\n",
              "      <td>0</td>\n",
              "      <td>1</td>\n",
              "      <td>1</td>\n",
              "      <td>0</td>\n",
              "      <td>0</td>\n",
              "      <td>9</td>\n",
              "      <td>0</td>\n",
              "      <td>0</td>\n",
              "      <td>0</td>\n",
              "      <td>...</td>\n",
              "      <td>0</td>\n",
              "      <td>0</td>\n",
              "      <td>0</td>\n",
              "      <td>0</td>\n",
              "      <td>0</td>\n",
              "      <td>0</td>\n",
              "      <td>0</td>\n",
              "      <td>0</td>\n",
              "      <td>0</td>\n",
              "      <td>0</td>\n",
              "    </tr>\n",
              "    <tr>\n",
              "      <td>1996</td>\n",
              "      <td>0</td>\n",
              "      <td>7</td>\n",
              "      <td>0</td>\n",
              "      <td>0</td>\n",
              "      <td>1</td>\n",
              "      <td>1</td>\n",
              "      <td>1</td>\n",
              "      <td>0</td>\n",
              "      <td>0</td>\n",
              "      <td>0</td>\n",
              "      <td>...</td>\n",
              "      <td>1</td>\n",
              "      <td>1</td>\n",
              "      <td>1</td>\n",
              "      <td>0</td>\n",
              "      <td>0</td>\n",
              "      <td>0</td>\n",
              "      <td>0</td>\n",
              "      <td>0</td>\n",
              "      <td>0</td>\n",
              "      <td>0</td>\n",
              "    </tr>\n",
              "    <tr>\n",
              "      <td>1997</td>\n",
              "      <td>1</td>\n",
              "      <td>0</td>\n",
              "      <td>0</td>\n",
              "      <td>2</td>\n",
              "      <td>2</td>\n",
              "      <td>0</td>\n",
              "      <td>0</td>\n",
              "      <td>0</td>\n",
              "      <td>0</td>\n",
              "      <td>0</td>\n",
              "      <td>...</td>\n",
              "      <td>0</td>\n",
              "      <td>0</td>\n",
              "      <td>0</td>\n",
              "      <td>1</td>\n",
              "      <td>1</td>\n",
              "      <td>1</td>\n",
              "      <td>4</td>\n",
              "      <td>1</td>\n",
              "      <td>0</td>\n",
              "      <td>0</td>\n",
              "    </tr>\n",
              "    <tr>\n",
              "      <td>1998</td>\n",
              "      <td>1</td>\n",
              "      <td>2</td>\n",
              "      <td>1</td>\n",
              "      <td>0</td>\n",
              "      <td>1</td>\n",
              "      <td>2</td>\n",
              "      <td>2</td>\n",
              "      <td>0</td>\n",
              "      <td>0</td>\n",
              "      <td>0</td>\n",
              "      <td>...</td>\n",
              "      <td>0</td>\n",
              "      <td>0</td>\n",
              "      <td>0</td>\n",
              "      <td>0</td>\n",
              "      <td>0</td>\n",
              "      <td>0</td>\n",
              "      <td>0</td>\n",
              "      <td>0</td>\n",
              "      <td>0</td>\n",
              "      <td>0</td>\n",
              "    </tr>\n",
              "    <tr>\n",
              "      <td>1999</td>\n",
              "      <td>1</td>\n",
              "      <td>0</td>\n",
              "      <td>0</td>\n",
              "      <td>1</td>\n",
              "      <td>2</td>\n",
              "      <td>0</td>\n",
              "      <td>3</td>\n",
              "      <td>0</td>\n",
              "      <td>0</td>\n",
              "      <td>0</td>\n",
              "      <td>...</td>\n",
              "      <td>0</td>\n",
              "      <td>0</td>\n",
              "      <td>0</td>\n",
              "      <td>0</td>\n",
              "      <td>0</td>\n",
              "      <td>0</td>\n",
              "      <td>0</td>\n",
              "      <td>0</td>\n",
              "      <td>3</td>\n",
              "      <td>1</td>\n",
              "    </tr>\n",
              "  </tbody>\n",
              "</table>\n",
              "<p>2000 rows × 11592 columns</p>\n",
              "</div>"
            ],
            "text/plain": [
              "      would  movie  and  it  the  good  i  last  freddys  d  ...  housebr  \\\n",
              "0         2      3    3   2    3     2  3     2        2  3  ...        0   \n",
              "1         0      4    0   0    2     0  1     1        0  0  ...        0   \n",
              "2         1      0    0   1    0     0  1     0        0  0  ...        0   \n",
              "3         0      0    0   4    3     0  0     0        0  0  ...        0   \n",
              "4         0      1    0   1    0     0  0     0        0  0  ...        0   \n",
              "...     ...    ...  ...  ..  ...   ... ..   ...      ... ..  ...      ...   \n",
              "1995      2      0    1   1    0     0  9     0        0  0  ...        0   \n",
              "1996      0      7    0   0    1     1  1     0        0  0  ...        1   \n",
              "1997      1      0    0   2    2     0  0     0        0  0  ...        0   \n",
              "1998      1      2    1   0    1     2  2     0        0  0  ...        0   \n",
              "1999      1      0    0   1    2     0  3     0        0  0  ...        0   \n",
              "\n",
              "      spawn  hulk  perennial  marked  nadir  veronica  exchanged  grable  \\\n",
              "0         0     0          0       0      0         0          0       0   \n",
              "1         0     0          0       0      0         0          0       0   \n",
              "2         0     0          0       0      0         0          0       0   \n",
              "3         0     0          0       0      0         0          0       0   \n",
              "4         0     0          0       0      0         0          0       0   \n",
              "...     ...   ...        ...     ...    ...       ...        ...     ...   \n",
              "1995      0     0          0       0      0         0          0       0   \n",
              "1996      1     1          0       0      0         0          0       0   \n",
              "1997      0     0          1       1      1         4          1       0   \n",
              "1998      0     0          0       0      0         0          0       0   \n",
              "1999      0     0          0       0      0         0          0       3   \n",
              "\n",
              "      hayworth  \n",
              "0            0  \n",
              "1            0  \n",
              "2            0  \n",
              "3            0  \n",
              "4            0  \n",
              "...        ...  \n",
              "1995         0  \n",
              "1996         0  \n",
              "1997         0  \n",
              "1998         0  \n",
              "1999         1  \n",
              "\n",
              "[2000 rows x 11592 columns]"
            ]
          },
          "execution_count": 12,
          "metadata": {},
          "output_type": "execute_result"
        }
      ],
      "source": [
        "MixedBagOfReviews = assemble_bag(data_train)\n",
        "# this is the list of words in our bag-of-words model\n",
        "predictors = [column for column in MixedBagOfReviews.columns]\n",
        "\n",
        "# expand default pandas display options to make emails more clearly visible when printed\n",
        "pd.set_option('display.max_colwidth', 300)\n",
        "\n",
        "MixedBagOfReviews # you could do print(MixedBagOfReviews), but Jupyter displays this nicer for pandas DataFrames"
      ]
    },
    {
      "cell_type": "code",
      "execution_count": null,
      "metadata": {
        "id": "kSQEX9C0cnyu",
        "outputId": "9b7ef3c2-747f-4e91-8461-8d4a96211847"
      },
      "outputs": [
        {
          "name": "stdout",
          "output_type": "stream",
          "text": [
            "train_x/train_y list details, to make sure it is of the right form:\n",
            "1400\n",
            "[[2 3 3 ... 0 0 0]\n",
            " [0 4 0 ... 0 0 0]\n",
            " [1 0 0 ... 0 0 0]\n",
            " ...\n",
            " [2 0 0 ... 0 0 0]\n",
            " [0 0 0 ... 0 0 0]\n",
            " [0 0 0 ... 0 0 0]]\n",
            "[0 0 1 1 1]\n",
            "1400\n"
          ]
        }
      ],
      "source": [
        "# split into independent 70% training and 30% testing sets\n",
        "data = MixedBagOfReviews.values\n",
        "\n",
        "idx = int(0.7*data.shape[0])\n",
        "\n",
        "# 70% of data for training\n",
        "train_x = data[:idx,:]\n",
        "train_y = header[:idx]\n",
        "# remaining 30% for testing\n",
        "test_x = data[idx:,:]\n",
        "test_y = header[idx:]\n",
        "\n",
        "print(\"train_x/train_y list details, to make sure it is of the right form:\")\n",
        "print(len(train_x))\n",
        "print(train_x)\n",
        "print(train_y[:5])\n",
        "print(len(train_y))"
      ]
    },
    {
      "cell_type": "markdown",
      "metadata": {
        "id": "Giu5505Qcnyu"
      },
      "source": [
        "# How about other vectorization strategies?\n",
        "\n",
        "We present other vectorization strategies below, for readers who are interested in exploring them..."
      ]
    },
    {
      "cell_type": "code",
      "execution_count": null,
      "metadata": {
        "id": "FcTzO111cnyu"
      },
      "outputs": [],
      "source": [
        "from sklearn.feature_extraction.text import CountVectorizer, TfidfVectorizer, HashingVectorizer\n",
        "\n",
        "# create the transform - uncomment the one you want to focus on\n",
        "# vectorizer = CountVectorizer() # this is equivalent to the bag of words\n",
        "vectorizer = TfidfVectorizer() # tf-idf vectorizer\n",
        "# vectorizer = HashingVectorizer(n_features=3000) # hashing vectorizer"
      ]
    },
    {
      "cell_type": "code",
      "execution_count": null,
      "metadata": {
        "id": "TQAHnYcycnyu",
        "outputId": "f2d8023c-1f53-4d9f-d083-38178e209ee7"
      },
      "outputs": [
        {
          "name": "stdout",
          "output_type": "stream",
          "text": [
            "24595\n",
            "(1, 24595)\n",
            "[[0. 0. 0. ... 0. 0. 0.]]\n"
          ]
        }
      ],
      "source": [
        "# build vocabulary\n",
        "vectorizer.fit([' '.join(sublst) for sublst in data_train])\n",
        "# summarize\n",
        "print(len(vectorizer.vocabulary_))\n",
        "#print(vectorizer.idf_)\n",
        "# encode one document\n",
        "vector = vectorizer.transform([' '.join(data_train[0])])\n",
        "# summarize encoded vector\n",
        "print(vector.shape)\n",
        "print(vector.toarray())\n",
        "\n",
        "USE = False # set this to 'True' if you want to use the vectorizer featurizers instead of the bag-of-words done before\n",
        "if(USE):\n",
        "    data = vectorizer.transform([' '.join(sublst) for sublst in data_train]).toarray()\n",
        "    # 70% of data for training\n",
        "    train_x = data[:idx,:]\n",
        "    # remaining 30% for testing\n",
        "    test_x = data[idx:,:]\n",
        "\n",
        "    print(\"train_x/train_y list details, to make sure it is of the right form:\")\n",
        "    print(train_x.shape[0])\n",
        "    print(train_x)\n",
        "    print(train_y[:5])\n",
        "    print(len(train_y))\n",
        "    predictors = [column for column in vectorizer.vocabulary_]"
      ]
    },
    {
      "cell_type": "markdown",
      "metadata": {
        "id": "xVhzLdjWcnyv"
      },
      "source": [
        "# Logistic Regression Classifier"
      ]
    },
    {
      "cell_type": "code",
      "execution_count": null,
      "metadata": {
        "id": "Zz9zs5k4cnyv",
        "outputId": "93f35252-332f-4909-8798-d5c0c19050e2"
      },
      "outputs": [
        {
          "name": "stderr",
          "output_type": "stream",
          "text": [
            "/opt/conda/lib/python3.6/site-packages/sklearn/linear_model/logistic.py:432: FutureWarning: Default solver will be changed to 'lbfgs' in 0.22. Specify a solver to silence this warning.\n",
            "  FutureWarning)\n"
          ]
        }
      ],
      "source": [
        "from sklearn.linear_model import LogisticRegression\n",
        "\n",
        "def fit(train_x,train_y):\n",
        "    model = LogisticRegression()\n",
        "\n",
        "    try:\n",
        "        model.fit(train_x, train_y)\n",
        "    except:\n",
        "        pass\n",
        "    return model\n",
        "\n",
        "model = fit(train_x,train_y)"
      ]
    },
    {
      "cell_type": "code",
      "execution_count": null,
      "metadata": {
        "id": "pOYgO-hicnyv",
        "outputId": "900f003d-8220-4fd7-9918-547e3b7b7b3c"
      },
      "outputs": [
        {
          "name": "stdout",
          "output_type": "stream",
          "text": [
            "DEBUG::The logistic regression predicted labels are::\n",
            "[0 0 0 1 1 0 0 0 1 0 0 1 1 0 0 1 0 0 0 1 1 0 1 0 1 0 1 1 1 0 1 1 1 0 1 0 1\n",
            " 1 0 1 0 0 1 1 0 0 0 0 0 0 1 0 0 0 1 1 0 0 0 1 0 1 0 1 0 1 0 1 0 1 1 0 0 1\n",
            " 0 0 0 1 0 0 0 1 1 1 0 1 0 1 1 1 1 1 0 0 0 1 0 0 0 1 1 1 1 0 0 1 0 1 1 1 1\n",
            " 1 1 1 1 1 0 0 1 1 1 0 1 1 0 0 1 1 1 0 0 1 0 0 1 0 0 0 0 1 0 0 1 1 0 0 0 1\n",
            " 1 1 0 1 0 0 1 1 0 0 0 0 0 0 0 1 1 0 0 1 0 0 0 0 0 0 0 0 0 1 1 1 1 1 1 0 0\n",
            " 0 0 1 0 0 0 1 0 0 1 1 1 0 1 0 0 0 0 0 0 0 0 0 0 1 1 0 1 1 1 1 0 1 1 1 0 1\n",
            " 0 1 0 0 1 1 0 0 1 0 1 0 0 0 1 0 0 1 0 0 0 0 0 0 1 1 1 0 0 0 1 0 0 0 0 0 1\n",
            " 1 0 1 1 1 0 0 0 0 1 1 0 1 0 0 0 0 0 0 1 0 1 0 1 1 1 0 1 0 0 0 1 0 0 0 0 0\n",
            " 1 1 1 1 0 1 0 0 0 0 0 1 0 0 1 1 1 1 1 1 0 0 0 1 1 0 1 0 1 1 1 0 1 1 0 0 0\n",
            " 0 0 0 1 1 1 1 0 1 0 1 0 0 1 0 0 1 0 1 1 0 1 0 1 0 1 0 0 0 0 0 0 0 1 0 0 0\n",
            " 0 1 1 0 1 0 1 0 0 1 0 1 0 0 1 0 0 1 1 0 0 0 1 0 1 1 0 1 1 1 0 1 0 1 1 0 0\n",
            " 1 1 1 0 0 0 1 1 1 1 0 1 0 0 1 1 0 1 1 0 1 1 1 0 0 0 1 0 1 0 0 0 1 1 1 1 1\n",
            " 1 0 0 0 1 0 0 0 0 1 1 1 1 0 1 1 0 0 0 1 0 0 1 0 1 1 1 1 1 1 1 0 1 0 1 0 0\n",
            " 0 1 1 1 1 0 0 1 0 0 1 0 1 1 0 0 0 1 0 1 0 1 1 0 0 0 1 0 0 1 0 1 0 0 1 0 1\n",
            " 1 0 1 1 0 1 0 1 1 1 0 0 1 1 1 1 1 0 1 0 0 1 0 0 1 1 1 0 0 1 1 0 0 0 0 0 0\n",
            " 0 1 0 0 1 1 1 0 1 0 1 1 0 0 0 1 0 0 0 0 0 1 1 0 1 1 1 1 0 1 1 1 0 1 1 1 1\n",
            " 0 0 0 0 0 0 0 1]\n"
          ]
        }
      ],
      "source": [
        "predicted_labels = model.predict(test_x)\n",
        "\n",
        "# print all labels for full trasparency\n",
        "print(\"DEBUG::The logistic regression predicted labels are::\")\n",
        "print(predicted_labels)"
      ]
    },
    {
      "cell_type": "code",
      "execution_count": null,
      "metadata": {
        "id": "vBY6DlP3cnyv",
        "outputId": "7fd63da5-298b-4ccd-9a8f-6ca1382ec75c"
      },
      "outputs": [
        {
          "name": "stdout",
          "output_type": "stream",
          "text": [
            "The logistic regression accuracy score is::\n",
            "0.7833333333333333\n"
          ]
        }
      ],
      "source": [
        "from sklearn.metrics import accuracy_score\n",
        "\n",
        "acc_score = accuracy_score(test_y, predicted_labels)\n",
        "\n",
        "print(\"The logistic regression accuracy score is::\")\n",
        "print(acc_score)"
      ]
    },
    {
      "cell_type": "markdown",
      "metadata": {
        "id": "ji9fq0kUcnyw"
      },
      "source": [
        "# Support Vector Machine Classifier"
      ]
    },
    {
      "cell_type": "code",
      "execution_count": null,
      "metadata": {
        "id": "8GCqwDTzcnyw"
      },
      "outputs": [],
      "source": [
        "import time\n",
        "from sklearn.svm import SVC # Support Vector Classification model"
      ]
    },
    {
      "cell_type": "code",
      "execution_count": null,
      "metadata": {
        "id": "-akFLN4ecnyw",
        "outputId": "7277e2fc-af73-4df2-ee12-f0446cccfd94"
      },
      "outputs": [
        {
          "name": "stdout",
          "output_type": "stream",
          "text": [
            "Training the SVC Classifier took  33 seconds\n",
            "DEBUG::The SVC Classifier predicted labels are::\n",
            "[0 0 0 1 1 0 0 0 1 0 0 1 1 0 0 0 0 0 0 1 1 0 1 0 1 0 1 1 1 1 1 1 1 0 1 0 1\n",
            " 1 0 1 0 0 0 1 0 0 0 0 0 0 1 0 0 0 1 1 1 1 0 1 0 1 0 1 0 1 0 1 0 1 1 0 0 1\n",
            " 0 0 0 1 0 0 0 1 1 1 0 1 1 1 1 1 1 1 0 0 0 1 0 0 0 1 1 1 1 0 0 1 0 1 1 1 0\n",
            " 1 1 1 1 1 0 0 1 1 1 0 1 1 0 0 1 1 1 0 0 1 0 0 1 0 0 0 0 1 0 0 1 1 0 0 0 1\n",
            " 1 0 0 1 0 0 1 1 0 0 0 0 0 0 0 1 1 0 0 0 0 0 0 0 0 0 0 0 0 1 1 1 0 0 1 0 0\n",
            " 0 0 1 0 1 0 1 0 0 1 1 1 0 1 1 0 1 1 0 0 0 0 1 0 1 1 0 1 1 1 1 0 1 1 1 0 0\n",
            " 0 1 0 0 1 1 0 0 1 0 1 0 0 0 1 0 0 1 0 1 0 1 0 0 1 1 1 0 0 0 1 0 0 0 0 0 1\n",
            " 0 0 1 1 0 0 0 0 0 1 1 0 1 0 0 0 0 0 0 1 0 1 0 1 1 1 0 1 0 0 0 1 0 0 0 0 1\n",
            " 0 1 1 1 0 1 0 0 0 0 0 1 0 0 1 1 1 0 0 1 0 0 1 0 0 0 1 0 1 1 1 0 1 1 0 0 0\n",
            " 0 0 0 1 0 1 1 0 1 0 1 0 0 0 0 0 1 0 1 1 0 0 0 1 0 1 0 0 0 0 0 0 0 1 0 0 0\n",
            " 0 1 1 0 1 0 1 0 0 1 0 1 0 0 1 0 0 1 1 0 0 0 1 0 1 1 0 1 1 1 0 1 0 1 1 0 0\n",
            " 1 1 1 0 0 0 1 1 0 1 0 1 0 0 1 1 0 1 1 0 1 1 1 0 0 0 1 1 1 0 0 0 1 1 1 1 1\n",
            " 0 1 0 0 1 0 0 0 0 1 1 1 1 0 1 1 0 0 1 1 0 0 1 0 1 1 1 1 1 1 1 0 1 0 1 1 0\n",
            " 0 1 1 1 1 0 0 1 0 0 1 0 1 1 0 0 0 1 0 1 0 1 1 0 0 0 1 0 0 1 0 1 0 0 1 0 1\n",
            " 1 0 1 1 0 1 0 1 1 1 0 0 1 1 1 1 1 0 1 0 0 1 0 0 1 1 1 0 0 1 1 0 0 0 0 0 0\n",
            " 0 1 0 1 1 1 1 0 1 0 1 1 0 0 0 1 0 0 1 0 0 1 0 0 1 1 1 1 0 1 1 1 0 1 1 1 1\n",
            " 0 0 0 0 0 0 0 1]\n",
            "The SVC Classifier testing accuracy score is::\n",
            "0.7633333333333333\n"
          ]
        }
      ],
      "source": [
        "# Create a support vector classifier\n",
        "clf = SVC(C=1, gamma=\"auto\", kernel='linear',probability=False)\n",
        "\n",
        "# Fit the classifier using the training data\n",
        "start_time = time.time()\n",
        "clf.fit(train_x, train_y)\n",
        "end_time = time.time()\n",
        "print(\"Training the SVC Classifier took %3d seconds\"%(end_time-start_time))\n",
        "\n",
        "# test and evaluate\n",
        "predicted_labels = clf.predict(test_x)\n",
        "print(\"DEBUG::The SVC Classifier predicted labels are::\")\n",
        "print(predicted_labels)\n",
        "\n",
        "acc_score = accuracy_score(test_y, predicted_labels)\n",
        "print(\"The SVC Classifier testing accuracy score is::\")\n",
        "print(acc_score)"
      ]
    },
    {
      "cell_type": "markdown",
      "metadata": {
        "id": "1qJf8OL8cnyw"
      },
      "source": [
        "# Random Forests"
      ]
    },
    {
      "cell_type": "code",
      "execution_count": null,
      "metadata": {
        "id": "sR2URNXhcnyw",
        "outputId": "d1a95f40-dfae-42ee-968f-26228003e357"
      },
      "outputs": [
        {
          "name": "stderr",
          "output_type": "stream",
          "text": [
            "/opt/conda/lib/python3.6/site-packages/sklearn/ensemble/forest.py:245: FutureWarning: The default value of n_estimators will change from 10 in version 0.20 to 100 in 0.22.\n",
            "  \"10 in version 0.20 to 100 in 0.22.\", FutureWarning)\n"
          ]
        },
        {
          "name": "stdout",
          "output_type": "stream",
          "text": [
            "Training the Random Forest Classifier took   0 seconds\n",
            "DEBUG::The RF predicted labels are::\n",
            "[0 0 0 0 1 0 0 0 1 0 0 1 0 0 0 0 0 0 0 1 0 0 0 0 0 0 1 1 0 1 1 1 0 1 1 0 0\n",
            " 1 0 1 0 0 1 1 1 0 0 1 0 0 1 0 0 1 1 1 1 0 0 1 0 0 0 1 0 1 1 1 1 1 0 0 1 1\n",
            " 0 0 0 1 0 1 1 0 1 1 0 1 0 0 0 1 1 1 1 0 0 0 0 0 0 0 0 1 0 0 0 1 0 1 1 1 0\n",
            " 1 1 1 1 1 1 0 0 1 0 1 0 0 0 0 0 1 1 0 0 0 0 1 1 0 0 1 0 1 0 0 1 1 0 0 0 1\n",
            " 0 1 0 1 0 1 1 1 0 0 0 1 0 0 0 1 1 0 0 1 1 0 0 0 0 0 0 0 1 0 1 1 0 1 1 0 0\n",
            " 1 0 0 1 0 0 1 0 0 1 1 1 0 1 0 0 0 0 0 1 0 1 0 0 1 1 0 0 0 0 1 0 1 1 1 0 0\n",
            " 0 0 0 0 1 1 0 0 1 0 0 1 0 0 0 0 1 1 0 0 0 0 0 0 1 0 0 0 0 0 1 0 0 1 1 0 0\n",
            " 1 0 0 1 1 0 0 0 0 1 1 0 1 1 1 0 0 0 0 0 0 1 0 1 1 0 1 0 0 0 0 1 0 1 1 1 0\n",
            " 1 1 0 1 0 1 0 0 0 1 0 1 1 0 1 1 1 0 1 0 0 0 0 0 1 0 1 1 1 1 1 0 1 1 0 0 0\n",
            " 0 1 0 1 0 1 1 0 1 0 1 1 0 1 0 0 0 0 1 1 0 0 0 0 0 1 0 0 0 0 0 1 0 0 0 0 0\n",
            " 0 1 0 0 1 1 1 0 1 1 0 1 0 0 1 0 1 0 0 0 0 0 0 0 0 1 0 1 0 0 0 0 0 1 0 0 0\n",
            " 1 1 0 1 0 0 1 0 0 0 0 1 0 0 0 0 0 1 1 0 0 0 0 0 0 1 1 1 1 0 0 0 1 0 1 1 1\n",
            " 1 0 0 0 1 0 0 0 0 0 1 0 1 0 0 1 1 0 0 1 1 1 1 0 0 1 0 0 0 1 0 0 1 0 1 0 0\n",
            " 0 1 0 1 0 0 0 0 0 0 0 0 1 1 0 0 0 0 0 0 0 1 1 0 1 0 1 0 0 1 0 0 0 0 1 0 0\n",
            " 1 0 1 0 0 1 0 1 0 1 0 0 0 1 0 0 1 1 1 0 0 1 0 0 1 1 1 0 0 1 1 0 1 0 0 1 0\n",
            " 0 0 0 0 0 1 1 0 0 0 0 1 0 0 1 1 0 0 0 0 0 0 1 0 1 0 0 1 0 1 1 1 0 0 1 1 0\n",
            " 0 0 1 0 0 0 0 0]\n",
            "DEBUG::The RF testing accuracy score is::\n",
            "0.7116666666666667\n"
          ]
        }
      ],
      "source": [
        "# Load scikit's random forest classifier library\n",
        "from sklearn.ensemble import RandomForestClassifier\n",
        "\n",
        "# Create a random forest Classifier. By convention, clf means 'Classifier'\n",
        "clf = RandomForestClassifier(n_jobs=1, random_state=0)\n",
        "\n",
        "# Train the Classifier to take the training features and learn how they relate\n",
        "# to the training y (spam, not spam?)\n",
        "start_time = time.time()\n",
        "clf.fit(train_x, train_y)\n",
        "end_time = time.time()\n",
        "print(\"Training the Random Forest Classifier took %3d seconds\"%(end_time-start_time))\n",
        "\n",
        "predicted_labels = clf.predict(test_x)\n",
        "print(\"DEBUG::The RF predicted labels are::\")\n",
        "print(predicted_labels)\n",
        "\n",
        "acc_score = accuracy_score(test_y, predicted_labels)\n",
        "\n",
        "print(\"DEBUG::The RF testing accuracy score is::\")\n",
        "print(acc_score)"
      ]
    },
    {
      "cell_type": "markdown",
      "metadata": {
        "id": "CHqj68oncnyx"
      },
      "source": [
        "# Gradient Boosting Machines"
      ]
    },
    {
      "cell_type": "code",
      "execution_count": null,
      "metadata": {
        "id": "NuTs-F82cnyx",
        "outputId": "2a62eae1-ebd2-4c39-f2e7-decb58310769"
      },
      "outputs": [
        {
          "name": "stdout",
          "output_type": "stream",
          "text": [
            "\n",
            "Model Report\n",
            "Accuracy : 0.9136\n",
            "AUC Score (Train): 0.981752\n",
            "CV Score : Mean - 0.845347 | Std - 0.01020305 | Min - 0.836148 | Max - 0.8625899\n",
            "Training the Gradient Boosting Classifier took 542 seconds\n",
            "DEBUG::The Gradient Boosting predicted labels are::\n",
            "[0 1 0 1 1 0 0 1 1 1 0 1 1 0 0 1 0 1 1 1 1 0 0 0 0 0 1 1 1 0 1 1 1 0 1 0 0\n",
            " 1 0 1 1 0 1 1 1 0 0 1 1 0 1 0 0 1 1 1 1 0 1 1 0 1 0 1 0 1 0 1 1 1 1 0 1 1\n",
            " 1 0 0 1 0 1 0 1 1 1 0 1 1 1 1 0 1 1 1 0 0 0 0 0 0 1 0 1 1 0 0 1 0 1 1 1 1\n",
            " 1 1 1 1 1 0 0 1 1 0 1 1 1 0 1 1 1 1 0 0 1 0 0 1 0 1 0 0 1 0 0 1 1 0 0 0 1\n",
            " 1 1 1 1 1 1 1 1 1 0 1 1 0 1 0 1 1 0 0 0 1 1 1 1 0 0 0 0 1 1 1 1 0 1 1 1 0\n",
            " 0 0 1 0 1 0 1 0 0 1 0 1 1 1 1 0 0 0 0 1 0 0 0 0 1 1 0 0 1 1 1 0 1 1 1 0 1\n",
            " 1 1 0 1 0 1 0 0 1 0 0 1 0 1 0 0 1 1 0 0 0 0 0 1 1 1 1 0 0 1 1 0 0 1 1 0 1\n",
            " 1 0 1 1 1 0 0 0 0 1 1 0 1 0 0 1 0 0 0 1 0 1 0 1 1 0 1 1 0 0 0 1 1 1 1 1 0\n",
            " 1 1 1 1 0 1 0 0 0 1 0 1 0 0 1 1 1 0 0 1 1 0 0 1 0 1 1 1 1 1 1 0 1 1 0 1 0\n",
            " 1 0 0 1 0 1 1 0 1 0 1 1 1 1 0 1 1 1 0 1 0 0 1 0 0 1 0 0 0 0 0 1 0 1 1 0 0\n",
            " 0 1 0 0 0 1 1 0 1 1 0 1 0 0 1 0 1 1 0 0 0 0 1 1 1 1 0 1 0 1 0 1 0 0 1 1 0\n",
            " 1 1 0 1 0 0 1 1 0 1 1 1 0 0 0 1 0 1 1 1 1 0 0 0 0 0 1 1 0 0 1 0 1 1 1 1 1\n",
            " 1 0 0 1 1 0 0 1 0 1 1 1 1 1 0 1 0 0 0 1 0 1 0 0 1 1 1 1 1 1 1 1 0 0 1 0 0\n",
            " 0 0 0 0 1 0 0 1 0 1 1 0 1 1 0 0 0 1 0 1 1 1 1 1 0 0 1 0 0 1 1 1 0 1 1 0 0\n",
            " 1 0 1 1 0 1 0 1 0 1 0 0 1 0 1 1 1 0 1 0 0 1 0 0 1 1 1 0 0 1 1 0 1 0 0 1 0\n",
            " 0 0 1 1 1 1 1 0 0 0 1 1 0 0 0 1 0 0 0 0 0 1 1 0 1 0 1 1 0 1 0 1 1 1 1 1 1\n",
            " 0 0 1 0 0 0 0 1]\n",
            "DEBUG::The Gradient Boosting testing accuracy score is::\n",
            "0.76\n"
          ]
        },
        {
          "data": {
            "image/png": "[encoded data removed]",
            "text/plain": [
              "<Figure size 432x288 with 1 Axes>"
            ]
          },
          "metadata": {
            "needs_background": "light"
          },
          "output_type": "display_data"
        }
      ],
      "source": [
        "from sklearn.ensemble import GradientBoostingClassifier  # GBM algorithm\n",
        "from sklearn import metrics   #Additional scklearn functions\n",
        "from sklearn.model_selection import cross_val_score, GridSearchCV\n",
        "\n",
        "def modelfit(alg, train_x, train_y, predictors, test_x, performCV=True, printFeatureImportance=True, cv_folds=5):\n",
        "    #Fit the algorithm on the data\n",
        "    alg.fit(train_x, train_y)\n",
        "\n",
        "    #Predict training set:\n",
        "    predictions = alg.predict(train_x)\n",
        "    predprob = alg.predict_proba(train_x)[:,1]\n",
        "\n",
        "    #Perform cross-validation:\n",
        "    if performCV:\n",
        "        cv_score = cross_val_score(alg, train_x, train_y, cv=cv_folds, scoring='roc_auc')\n",
        "\n",
        "    #Print model report:\n",
        "    print(\"\\nModel Report\")\n",
        "    print(\"Accuracy : %.4g\" % metrics.accuracy_score(train_y,predictions))\n",
        "    print(\"AUC Score (Train): %f\" % metrics.roc_auc_score(train_y, predprob))\n",
        "\n",
        "    if performCV:\n",
        "        print(\"CV Score : Mean - %.7g | Std - %.7g | Min - %.7g | Max - %.7g\" % (np.mean(cv_score),np.std(cv_score),np.min(cv_score),np.max(cv_score)))\n",
        "\n",
        "    #Print Feature Importance:\n",
        "    import matplotlib.pyplot as plt\n",
        "\n",
        "    if printFeatureImportance:\n",
        "        fig,ax = plt.subplots()\n",
        "        feat_imp = pd.Series(alg.feature_importances_, predictors).sort_values(ascending=False)\n",
        "        feat_imp[:10].plot(kind='bar', title='Feature Importances',ax=ax)\n",
        "        plt.ylabel('Feature Importance Score')\n",
        "\n",
        "        fig.savefig('GBMimportances.eps', format='eps',bbox_inches='tight')\n",
        "        fig.savefig('GBMimportances.pdf', format='pdf',bbox_inches='tight')\n",
        "        fig.savefig('GBMimportances.png', format='png',bbox_inches='tight')\n",
        "        fig.savefig('GBMimportances.svg', format='svg',bbox_inches='tight')\n",
        "\n",
        "    return alg.predict(test_x)\n",
        "\n",
        "gbm = GradientBoostingClassifier(random_state=10)\n",
        "\n",
        "start_time = time.time()\n",
        "test_predictions = modelfit(gbm, train_x, train_y, predictors, test_x)\n",
        "end_time = time.time()\n",
        "print(\"Training the Gradient Boosting Classifier took %3d seconds\"%(end_time-start_time))\n",
        "\n",
        "predicted_labels = test_predictions\n",
        "print(\"DEBUG::The Gradient Boosting predicted labels are::\")\n",
        "print(predicted_labels)\n",
        "\n",
        "acc_score = accuracy_score(test_y, predicted_labels)\n",
        "\n",
        "print(\"DEBUG::The Gradient Boosting testing accuracy score is::\")\n",
        "print(acc_score)"
      ]
    },
    {
      "cell_type": "markdown",
      "metadata": {
        "id": "GnW8e8EGcnyx"
      },
      "source": [
        "**Make figures downloadable to local system in interactive mode**"
      ]
    },
    {
      "cell_type": "code",
      "execution_count": null,
      "metadata": {
        "id": "aQqkO51jcny1",
        "outputId": "929f66ce-a960-4192-94f6-17f57935b04e"
      },
      "outputs": [
        {
          "data": {
            "text/html": [
              "<a href=GBMimportances.svg>Download file</a>"
            ],
            "text/plain": [
              "<IPython.core.display.HTML object>"
            ]
          },
          "execution_count": 23,
          "metadata": {},
          "output_type": "execute_result"
        }
      ],
      "source": [
        "from IPython.display import HTML\n",
        "def create_download_link(title = \"Download file\", filename = \"data.csv\"):\n",
        "    html = '<a href={filename}>{title}</a>'\n",
        "    html = html.format(title=title,filename=filename)\n",
        "    return HTML(html)\n",
        "\n",
        "create_download_link(filename='GBMimportances.svg')"
      ]
    },
    {
      "cell_type": "code",
      "execution_count": null,
      "metadata": {
        "id": "YSQG2--8cny1"
      },
      "outputs": [],
      "source": [
        "# you must remove all downloaded files - having too many of them on completion will make Kaggle reject your notebook\n",
        "!rm -rf aclImdb\n",
        "!rm aclImdb_v1.tar.gz"
      ]
    }
  ],
  "metadata": {
    "kernelspec": {
      "display_name": "Python 3",
      "language": "python",
      "name": "python3"
    },
    "language_info": {
      "codemirror_mode": {
        "name": "ipython",
        "version": 3
      },
      "file_extension": ".py",
      "mimetype": "text/x-python",
      "name": "python",
      "nbconvert_exporter": "python",
      "pygments_lexer": "ipython3",
      "version": "3.6.6"
    },
    "colab": {
      "provenance": []
    }
  },
  "nbformat": 4,
  "nbformat_minor": 0
}